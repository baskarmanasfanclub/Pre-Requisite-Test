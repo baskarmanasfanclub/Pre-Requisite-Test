{
  "nbformat": 4,
  "nbformat_minor": 0,
  "metadata": {
    "colab": {
      "provenance": []
    },
    "kernelspec": {
      "name": "python3",
      "display_name": "Python 3"
    },
    "language_info": {
      "name": "python"
    }
  },
  "cells": [
    {
      "cell_type": "markdown",
      "source": [
        "\n",
        "#Question 1\n",
        "\n",
        "-There will be n*m*k multiplications done to make the resultant matrix.\n",
        "- There will be n*m*(k-1)\n",
        "\n",
        "##Explanation -\n",
        " The Resultant matrix will have size of n*m and to make each element of the resultant K multiplications are done. So, at the end we get matrix of n*m each element occured by K multiplications, hence Computing both matrixes n*m*k multiplicaions are required. \n",
        "\n",
        "And for the addition case, there will one less operation then multiplcations because it is clear that to add, two elements we have one addition, so for n*m*k operation we have to do one less addition operations."
      ],
      "metadata": {
        "id": "Rs3fXt3rFB0H"
      }
    },
    {
      "cell_type": "markdown",
      "source": [
        "#Question 2\n"
      ],
      "metadata": {
        "id": "GSBEYrqKHO1U"
      }
    },
    {
      "cell_type": "code",
      "source": [
        "n=int(input())\n",
        "k=int(input())\n",
        "m=int(input())\n",
        "mat1 = [[int(input()) for x in range (k)] for y in range(n)]\n",
        "mat2 = [[int(input()) for x in range (m)] for y in range(k)]\n",
        "my_matrix = [([0]*m) for i in range(n)]\n",
        "\n",
        "for i in range(len(mat1)):\n",
        "    for j in range(len(mat2[0])):\n",
        "        for k in range(len(mat2)):\n",
        "            my_matrix[i][j]+=mat1[i][k]*mat2[k][j]\n",
        "\n",
        "for r in my_matrix:\n",
        "    print(r)\n"
      ],
      "metadata": {
        "colab": {
          "base_uri": "https://localhost:8080/"
        },
        "id": "Ew5w6O2-K5bm",
        "outputId": "b6736338-4417-4b33-db55-d2b1ddc5171d"
      },
      "execution_count": 23,
      "outputs": [
        {
          "output_type": "stream",
          "name": "stdout",
          "text": [
            "2\n",
            "2\n",
            "2\n",
            "1\n",
            "3\n",
            "4\n",
            "5\n",
            "6\n",
            "7\n",
            "8\n",
            "9\n",
            "[30, 34]\n",
            "[64, 73]\n"
          ]
        }
      ]
    },
    {
      "cell_type": "markdown",
      "source": [
        "In Question 2 the time complexity is clearly is n*m*k because there are three loops used in the operation. \n",
        "I don't know clearly the source code of Numpy but the time comes out in running the code of numpy is way much less then my iterative method."
      ],
      "metadata": {
        "id": "5zcL0jrvNn2O"
      }
    },
    {
      "cell_type": "code",
      "source": [
        "import numpy as np\n",
        "\n",
        "n=int(input())\n",
        "k=int(input())\n",
        "m=int(input())\n",
        "mat1 = [[int(input()) for x in range (k)] for y in range(n)]\n",
        "mat2 = [[int(input()) for x in range (m)] for y in range(k)]\n",
        "\n",
        "print(np.dot(mat1,mat2))\n",
        "\n"
      ],
      "metadata": {
        "colab": {
          "base_uri": "https://localhost:8080/"
        },
        "id": "0XrCm-uTN--u",
        "outputId": "cfe20505-f01c-48a2-d8d5-1c0304143851"
      },
      "execution_count": 24,
      "outputs": [
        {
          "output_type": "stream",
          "name": "stdout",
          "text": [
            "2\n",
            "2\n",
            "2\n",
            "1\n",
            "2\n",
            "3\n",
            "4\n",
            "5\n",
            "6\n",
            "7\n",
            "8\n",
            "[[19 22]\n",
            " [43 50]]\n"
          ]
        }
      ]
    },
    {
      "cell_type": "markdown",
      "source": [
        "So using Numpy is faster than using the iterative method"
      ],
      "metadata": {
        "id": "W_ae8g9NPaz7"
      }
    },
    {
      "cell_type": "markdown",
      "source": [
        "#Highest element with one pass"
      ],
      "metadata": {
        "id": "wcZ25OiPSpjB"
      }
    },
    {
      "cell_type": "code",
      "source": [
        "arr=[]\n",
        "n=int(input())\n",
        "for i in range(n):\n",
        "  x=int(input())\n",
        "  arr.append(x)\n",
        "maxi=arr[0]\n",
        "for i in range(1,n):\n",
        "  if(arr[i]>maxi):\n",
        "    maxi=arr[i]\n",
        "print(maxi)"
      ],
      "metadata": {
        "colab": {
          "base_uri": "https://localhost:8080/"
        },
        "id": "WHmAh9vURcJB",
        "outputId": "de28f5cb-39cb-4632-e113-fc56d5384279"
      },
      "execution_count": 1,
      "outputs": [
        {
          "output_type": "stream",
          "name": "stdout",
          "text": [
            "4\n",
            "-1\n",
            "5\n",
            "2\n",
            "55\n",
            "55\n"
          ]
        }
      ]
    },
    {
      "cell_type": "markdown",
      "source": [
        "#Second element with two pass"
      ],
      "metadata": {
        "id": "oGXPy2hzxYsO"
      }
    },
    {
      "cell_type": "code",
      "source": [
        "arr=[]\n",
        "n=int(input())\n",
        "for i in range(n):\n",
        "  x=int(input())\n",
        "  arr.append(x)\n",
        "maxi=arr[0]\n",
        "for i in range(1,n):\n",
        "  if(arr[i]>maxi):\n",
        "    maxi,arr[i]=maxi,arr[i]\n",
        "\n",
        "maxi=arr[0]\n",
        "for i in range(1,n-1):\n",
        "  if(arr[i]>maxi):\n",
        "    maxi,arr[i]=maxi,arr[i]\n",
        "\n",
        "print(arr[n-1])"
      ],
      "metadata": {
        "colab": {
          "base_uri": "https://localhost:8080/"
        },
        "id": "ATtzrHByS2yl",
        "outputId": "5aaf0b69-1aea-46c9-9a53-9779ef1b34f5"
      },
      "execution_count": 3,
      "outputs": [
        {
          "output_type": "stream",
          "name": "stdout",
          "text": [
            "4\n",
            "-1\n",
            "33\n",
            "4\n",
            "5\n",
            "5\n"
          ]
        }
      ]
    },
    {
      "cell_type": "markdown",
      "source": [
        "We can use the above methos n/2 times as the  median is defined as the middle element of the sorted array or data. So we can do the above swap mehtod n/2 times and we will have n/2th element of the array as median\n"
      ],
      "metadata": {
        "id": "gKIlKB2QUIcN"
      }
    },
    {
      "cell_type": "markdown",
      "source": [
        "#Better Method"
      ],
      "metadata": {
        "id": "Ae50gIFlVZo8"
      }
    },
    {
      "cell_type": "markdown",
      "source": [
        "We can use inbuilt sort function of the python and get our array sorted and n/2th element will be our median\n"
      ],
      "metadata": {
        "id": "wRQZjvilVPXe"
      }
    },
    {
      "cell_type": "code",
      "source": [
        "arr=[]\n",
        "n=int(input())\n",
        "for i in range(n):\n",
        "  x=int(input())\n",
        "  arr.append(x)\n",
        "maxi=arr[0]\n",
        "for i in range(n):\n",
        "  for j in range(i+1,n):\n",
        "    temp=arr[0]\n",
        "    if(arr[i]>arr[j]):\n",
        "      temp=arr[i]\n",
        "      arr[i]=arr[j]\n",
        "      arr[j]=temp\n",
        "\n",
        "if(n%2==0):\n",
        "  print((arr[n//2]+arr[(n//2)-1])//2)\n",
        "else :\n",
        "  print(arr[n//2])\n",
        "#I am printing the INT value of the median we can also print the origina;/float value of the Median"
      ],
      "metadata": {
        "colab": {
          "base_uri": "https://localhost:8080/"
        },
        "id": "lNQYCn5_VeDE",
        "outputId": "f02da1cc-939e-4638-8e0e-dd18643802ed"
      },
      "execution_count": 16,
      "outputs": [
        {
          "output_type": "stream",
          "name": "stdout",
          "text": [
            "4\n",
            "22\n",
            "-1\n",
            "3\n",
            "4\n",
            "3\n"
          ]
        }
      ]
    },
    {
      "cell_type": "markdown",
      "source": [
        "#USING IN-BUILT sorting function"
      ],
      "metadata": {
        "id": "cRl4PG2tZGMZ"
      }
    },
    {
      "cell_type": "code",
      "source": [
        "arr=[]\n",
        "n=int(input())\n",
        "for i in range(n):\n",
        "  x=int(input())\n",
        "  arr.append(x)\n",
        "ans=sorted(arr)\n",
        "if(n%2==0):\n",
        "  print((ans[n//2]+ans[(n//2)-1])//2)\n",
        "else :\n",
        "  print(ans[n//2])\n",
        "# print(ans)"
      ],
      "metadata": {
        "colab": {
          "base_uri": "https://localhost:8080/"
        },
        "id": "V-Ep1RRcZLzg",
        "outputId": "9f9d43a9-dcff-472c-827a-a27502f08b81"
      },
      "execution_count": 20,
      "outputs": [
        {
          "output_type": "stream",
          "name": "stdout",
          "text": [
            "4\n",
            "66\n",
            "-1\n",
            "2\n",
            "0\n",
            "1\n"
          ]
        }
      ]
    },
    {
      "cell_type": "markdown",
      "source": [
        "#Using Numpy.median"
      ],
      "metadata": {
        "id": "kDHRISFbaY9Z"
      }
    },
    {
      "cell_type": "code",
      "source": [
        "import numpy as np\n",
        "arr=[]\n",
        "n=int(input())\n",
        "for i in range(n):\n",
        "  x=int(input())\n",
        "  arr.append(x)\n",
        "\n",
        "print(np.median(arr))"
      ],
      "metadata": {
        "colab": {
          "base_uri": "https://localhost:8080/"
        },
        "id": "zhtEx9ewak-q",
        "outputId": "3320d583-ba4b-4d54-c9f0-233526053d6b"
      },
      "execution_count": 21,
      "outputs": [
        {
          "output_type": "stream",
          "name": "stdout",
          "text": [
            "4\n",
            "66\n",
            "-1\n",
            "2\n",
            "0\n",
            "1.0\n"
          ]
        }
      ]
    },
    {
      "cell_type": "markdown",
      "source": [
        "#Difference\n",
        "\n",
        "So in the source code used in the np.median the time complexity is turned to be O(n), where as the in the iterative metbod the time complexity turned to be O(n^2)."
      ],
      "metadata": {
        "id": "rwnAMeIPbfxn"
      }
    },
    {
      "cell_type": "markdown",
      "source": [
        "#Question 4"
      ],
      "metadata": {
        "id": "WicsBTiocHIC"
      }
    },
    {
      "cell_type": "markdown",
      "source": [
        "$ f = x^2y + y^3sin(x)$\n",
        "\n",
        "$∇f = (2xy + y^3cos(x))\\hat{x} +(x^2 + 3y^2sin(x))\\hat{y}$"
      ],
      "metadata": {
        "id": "zXuIQUAFcL6g"
      }
    },
    {
      "cell_type": "markdown",
      "source": [
        "Basically gradient is d(f)/dx"
      ],
      "metadata": {
        "id": "dmIhFFXLdoND"
      }
    },
    {
      "cell_type": "markdown",
      "source": [
        "#Question 5"
      ],
      "metadata": {
        "id": "-bYGrfXsCxX5"
      }
    },
    {
      "cell_type": "code",
      "source": [
        "import jax.numpy as jp\n",
        "from jax import grad\n",
        "\n",
        "\n",
        "values=[[1.0,9.0], [3.2,5.5],[1.12,2.6]]\n",
        "\n",
        "def func(value):\n",
        "  return (value[0]*value[0]*value[1] + value[1]*value[1]*value[1]*jp.sin(value[0]))\n",
        "\n",
        "def my_grad(x,y):\n",
        "  return (2*x*y+y*y*y*jp.cos(x), x*x+3*y*y*jp.sin(x))\n",
        "for value in values:\n",
        "  print(grad(func)(value))\n",
        "  print(my_grad(value[0],value[1]))"
      ],
      "metadata": {
        "colab": {
          "base_uri": "https://localhost:8080/"
        },
        "id": "y8nioWh1335K",
        "outputId": "69aa1603-be17-4b3a-8f6f-322d9bb2f119"
      },
      "execution_count": 11,
      "outputs": [
        {
          "output_type": "stream",
          "name": "stderr",
          "text": [
            "WARNING:jax._src.lib.xla_bridge:No GPU/TPU found, falling back to CPU. (Set TF_CPP_MIN_LOG_LEVEL=0 and rerun for more info.)\n"
          ]
        },
        {
          "output_type": "stream",
          "name": "stdout",
          "text": [
            "[DeviceArray(411.88037, dtype=float32, weak_type=True), DeviceArray(205.47745, dtype=float32, weak_type=True)]\n",
            "(DeviceArray(411.88037, dtype=float32, weak_type=True), DeviceArray(205.47745, dtype=float32, weak_type=True))\n",
            "[DeviceArray(-130.89128, dtype=float32, weak_type=True), DeviceArray(4.942543, dtype=float32, weak_type=True)]\n",
            "(DeviceArray(-130.8913, dtype=float32, weak_type=True), DeviceArray(4.9425416, dtype=float32, weak_type=True))\n",
            "[DeviceArray(13.481554, dtype=float32, weak_type=True), DeviceArray(19.508436, dtype=float32, weak_type=True)]\n",
            "(DeviceArray(13.481554, dtype=float32, weak_type=True), DeviceArray(19.508438, dtype=float32, weak_type=True))\n"
          ]
        }
      ]
    },
    {
      "cell_type": "markdown",
      "source": [
        "#Question 6\n"
      ],
      "metadata": {
        "id": "za3PjL4BCq6O"
      }
    },
    {
      "cell_type": "code",
      "source": [
        "import sympy as sp\n",
        "from sympy import diff ,symbols\n",
        "\n",
        "x=symbols(\"x\")\n",
        "y=symbols(\"y\")\n",
        "expression=x**2*y + y**3*sp.sin(x)\n",
        "dfdx=diff(expression,x)\n",
        "dfdy=diff(expression,y)\n",
        "print(dfdx, dfdy)\n"
      ],
      "metadata": {
        "colab": {
          "base_uri": "https://localhost:8080/"
        },
        "id": "KHlQBNtY9b5x",
        "outputId": "348695af-824d-4429-b4b5-7c8f82b61ca5"
      },
      "execution_count": 24,
      "outputs": [
        {
          "output_type": "stream",
          "name": "stdout",
          "text": [
            "2*x*y + y**3*cos(x) x**2 + 3*y**2*sin(x)\n"
          ]
        }
      ]
    },
    {
      "cell_type": "markdown",
      "source": [
        "#Question 7\n"
      ],
      "metadata": {
        "id": "4sAn94B7C2sX"
      }
    },
    {
      "cell_type": "code",
      "source": [
        "Dict1 ={\n",
        "    2022 : {\n",
        "        \"Branch1\": {\n",
        "            \"student1\" : {\n",
        "                \"Roll Number\" : 19110137,\n",
        "                \"Name\" : \"Shubham\",\n",
        "                \"Marks\" : {\"Sanskrit\":100,\"EMW\":100,\"Analog\":100}\n",
        "            }\n",
        "        }\n",
        "    }\n",
        "\n",
        "    ,2023 : {\n",
        "        \"Branch2\": {\n",
        "            \"student2\" : {\n",
        "                \"Roll Number\" : 19110109,\n",
        "                \"Name\" : \"Ajitesh Joshi\",\n",
        "                \"Marks\" : {\"Sanskrit\":0,\"EMW\":0,\"Analog \":0}\n",
        "            }\n",
        "        }\n",
        "    }\n",
        "    ,2024 : {\n",
        "        \"Branch3\": {\n",
        "            \"student3\" : {\n",
        "                \"Roll Number\" : 19110197,\n",
        "                \"Name\" : \"Aniket kumawat\",\n",
        "                \"Marks\" : {\"Sanskrit\":100,\"EMW\":87,\"Analog\":100}\n",
        "            }\n",
        "        }\n",
        "    }\n",
        "}\n",
        "\n",
        "print(Dict1)\n"
      ],
      "metadata": {
        "colab": {
          "base_uri": "https://localhost:8080/"
        },
        "id": "d40aHJCBC7RF",
        "outputId": "d2e8309a-fc9e-446b-9398-cc0fcee63ba7"
      },
      "execution_count": 29,
      "outputs": [
        {
          "output_type": "stream",
          "name": "stdout",
          "text": [
            "{2022: {'Branch1': {'student1': {'Roll Number': 19110137, 'Name': 'Shubham', 'Marks': {'DSA': 100, 'ES-112': 100, 'Databases': 100}}}}, 2023: {'Branch3': {'student3': {'Roll Number': 19110197, 'Name': 'Aniket kumawat', 'Marks': {'Sanskrit': 98, 'EMW': 87, 'Analog': 100}}}}}\n"
          ]
        }
      ]
    },
    {
      "cell_type": "code",
      "source": [],
      "metadata": {
        "id": "KAYClutASsez"
      },
      "execution_count": null,
      "outputs": []
    },
    {
      "cell_type": "markdown",
      "source": [
        "#Question 8"
      ],
      "metadata": {
        "id": "_0xbOEg2Stfo"
      }
    },
    {
      "cell_type": "code",
      "source": [
        "class marks:\n",
        "  def __init__(self, Sanskrit, EMW, Analog):\n",
        "    self.Sanskrit=Sanskrit\n",
        "    self.EMW=EMW\n",
        "    self.Analog=Analog\n",
        "class Student:\n",
        "  def __init__(self, Roll, Names, marks):\n",
        "    self.Roll = Roll\n",
        "    self.Names = Names\n",
        "    self.marks = marks\n",
        "class Branch:\n",
        "    def __init__(self, student, Branch):\n",
        "      self.student = student\n",
        "      self.Branch=Branch\n",
        "class year:\n",
        "  def __init__(self,Branch,year):\n",
        "    self.Branch=Branch\n",
        "    self.year=year\n",
        "  \n",
        "\n",
        "##Objects for Marks##\n",
        "marks1=marks(100, 87, 100)\n",
        "marks2=marks(0,0,0)\n",
        "marks3=marks(100,100,100)\n",
        "\n",
        "##Objects for Student##\n",
        "Student1=Student(19110137,\"Shubham\", marks3)\n",
        "Student2=Student(19110197,\"Aniket Kumawat\", marks1)\n",
        "Student3=Student(19110109,\"Ajitesh Joshi\", marks2)\n",
        "\n",
        "##Objects for Branch##\n",
        "Branch1 = Branch(Student1, \"Branch1\")\n",
        "Branch2=Branch(Student2,\"Branch2\")\n",
        "Branch3=Branch(Student3,\"Branch3\")\n",
        "\n",
        "##Objects for Year##\n",
        "year1=year(Branch1,2022)\n",
        "year2=year(Branch2,2023)\n",
        "year3=year(Branch3,2024)\n",
        "dict1=[year1,year2,year3]\n",
        "\n",
        "\n",
        "print(dict1[0].Branch.student.marks.Sanskrit, dict1[0].Branch.student.marks.EMW, dict1[0].Branch.student.marks.Analog)"
      ],
      "metadata": {
        "colab": {
          "base_uri": "https://localhost:8080/"
        },
        "id": "V2_ManhHSvin",
        "outputId": "d4441394-991c-485e-e6fe-ef50e2cb3889"
      },
      "execution_count": 30,
      "outputs": [
        {
          "output_type": "stream",
          "name": "stdout",
          "text": [
            "100 100 100\n"
          ]
        }
      ]
    },
    {
      "cell_type": "code",
      "source": [
        "import matplotlib.pyplot as plt\n",
        "import numpy as np\n",
        "x=np.linspace(0.5,100,200)\n",
        "y=x\n",
        "plt.plot(x,y)\n",
        "plt.show()"
      ],
      "metadata": {
        "colab": {
          "base_uri": "https://localhost:8080/",
          "height": 265
        },
        "id": "NYrApWomSzf-",
        "outputId": "d5ac7827-339f-4c53-fc8e-f7ea55b04d06"
      },
      "execution_count": 8,
      "outputs": [
        {
          "output_type": "display_data",
          "data": {
            "text/plain": [
              "<Figure size 432x288 with 1 Axes>"
            ],
            "image/png": "[encoded data removed]"
          },
          "metadata": {
            "needs_background": "light"
          }
        }
      ]
    },
    {
      "cell_type": "code",
      "source": [
        "import matplotlib.pyplot as plt\n",
        "import numpy as np\n",
        "x=np.linspace(0.5,100,200)\n",
        "y=x*x\n",
        "plt.plot(x,y)\n",
        "plt.show()"
      ],
      "metadata": {
        "colab": {
          "base_uri": "https://localhost:8080/",
          "height": 265
        },
        "id": "482TpeNbG6i9",
        "outputId": "044f610f-841b-47ab-eebf-891b2d0226ec"
      },
      "execution_count": 9,
      "outputs": [
        {
          "output_type": "display_data",
          "data": {
            "text/plain": [
              "<Figure size 432x288 with 1 Axes>"
            ],
            "image/png": "[encoded data removed]"
          },
          "metadata": {
            "needs_background": "light"
          }
        }
      ]
    },
    {
      "cell_type": "code",
      "source": [
        "import matplotlib.pyplot as plt\n",
        "import numpy as np\n",
        "x=np.linspace(0.5,100,200)\n",
        "y=(x*x*x)/100\n",
        "plt.plot(x,y)\n",
        "plt.show()"
      ],
      "metadata": {
        "colab": {
          "base_uri": "https://localhost:8080/",
          "height": 265
        },
        "id": "0PwH5GxCMQxY",
        "outputId": "51750a59-06c2-4cbf-9de3-04e8173b7035"
      },
      "execution_count": 10,
      "outputs": [
        {
          "output_type": "display_data",
          "data": {
            "text/plain": [
              "<Figure size 432x288 with 1 Axes>"
            ],
            "image/png": "[encoded data removed]"
          },
          "metadata": {
            "needs_background": "light"
          }
        }
      ]
    },
    {
      "cell_type": "code",
      "source": [
        "import matplotlib.pyplot as plt\n",
        "import numpy as np\n",
        "import jax.numpy as jp\n",
        "x=np.linspace(0.5,100,200)\n",
        "y=jp.sin(x)\n",
        "plt.plot(x,y)\n",
        "plt.show()"
      ],
      "metadata": {
        "colab": {
          "base_uri": "https://localhost:8080/",
          "height": 265
        },
        "id": "SG-vPt_lMdEt",
        "outputId": "670e471f-012b-4227-e819-12d431f72ba6"
      },
      "execution_count": 12,
      "outputs": [
        {
          "output_type": "display_data",
          "data": {
            "text/plain": [
              "<Figure size 432x288 with 1 Axes>"
            ],
            "image/png": "[encoded data removed]"
          },
          "metadata": {
            "needs_background": "light"
          }
        }
      ]
    },
    {
      "cell_type": "code",
      "source": [
        "import matplotlib.pyplot as plt\n",
        "import numpy as np\n",
        "import jax.numpy as jp\n",
        "x=np.linspace(0.5,100,200)\n",
        "y=jp.cos(x)\n",
        "plt.plot(x,y)\n",
        "plt.show()"
      ],
      "metadata": {
        "colab": {
          "base_uri": "https://localhost:8080/",
          "height": 265
        },
        "id": "heEPnRMfMyY3",
        "outputId": "a8c21555-0f89-42ed-8a60-0cb407f248c0"
      },
      "execution_count": 13,
      "outputs": [
        {
          "output_type": "display_data",
          "data": {
            "text/plain": [
              "<Figure size 432x288 with 1 Axes>"
            ],
            "image/png": "[encoded data removed]"
          },
          "metadata": {
            "needs_background": "light"
          }
        }
      ]
    },
    {
      "cell_type": "code",
      "source": [
        "import matplotlib.pyplot as plt\n",
        "import numpy as np\n",
        "import jax.numpy as jp\n",
        "x=np.linspace(0.5,100,200)\n",
        "y=np.exp(x)\n",
        "plt.plot(x,y)\n",
        "plt.show()"
      ],
      "metadata": {
        "colab": {
          "base_uri": "https://localhost:8080/",
          "height": 276
        },
        "id": "P5vkiVY1M4J1",
        "outputId": "7ca8bda8-b17d-4399-8ac6-bb5f3034c555"
      },
      "execution_count": 14,
      "outputs": [
        {
          "output_type": "display_data",
          "data": {
            "text/plain": [
              "<Figure size 432x288 with 1 Axes>"
            ],
            "image/png": "[encoded data removed]"
          },
          "metadata": {
            "needs_background": "light"
          }
        }
      ]
    },
    {
      "cell_type": "code",
      "source": [
        "import numpy as np\n",
        "import pandas as pd\n",
        "array = np.random.uniform(1,2, size=(20, 5))\n",
        "print(array)\n",
        "df=pd.DataFrame(array)\n",
        "df.columns=['a', 'b', 'c', 'd', 'e']\n",
        "print(df)\n",
        "max = df.std().max()\n",
        "print(max)\n",
        "min = df.std().min()\n",
        "print(min)"
      ],
      "metadata": {
        "colab": {
          "base_uri": "https://localhost:8080/"
        },
        "id": "6XwkKyMuPd0J",
        "outputId": "a20a10af-25d1-4c2a-b8e6-aa11112c1a0f"
      },
      "execution_count": 16,
      "outputs": [
        {
          "output_type": "stream",
          "name": "stdout",
          "text": [
            "[[1.94950672 1.34581038 1.05563371 1.1700509  1.38036981]\n",
            " [1.40875929 1.10338402 1.26282542 1.72082117 1.79367815]\n",
            " [1.90705619 1.51962578 1.30057798 1.66763452 1.85270533]\n",
            " [1.46722815 1.09083051 1.70372289 1.14388895 1.24245511]\n",
            " [1.9971369  1.52881509 1.04751874 1.14509214 1.32944324]\n",
            " [1.49374624 1.78549192 1.2103398  1.37785002 1.91085967]\n",
            " [1.59471656 1.39838245 1.45167312 1.75124908 1.71805042]\n",
            " [1.45517943 1.8602776  1.01279701 1.58005717 1.74573627]\n",
            " [1.63952737 1.82237263 1.96564525 1.96870737 1.39992833]\n",
            " [1.76860676 1.77696842 1.54068622 1.51474711 1.64065367]\n",
            " [1.67288819 1.43474595 1.50760424 1.82536355 1.09456112]\n",
            " [1.45363923 1.02312554 1.63990362 1.40721575 1.03930637]\n",
            " [1.25847542 1.75828354 1.33283635 1.94757737 1.67940515]\n",
            " [1.05877159 1.07691066 1.71981127 1.85550357 1.81513665]\n",
            " [1.42839103 1.99503603 1.87367751 1.4116515  1.45724131]\n",
            " [1.93810832 1.65243808 1.74960494 1.95658035 1.74796051]\n",
            " [1.54780275 1.48081539 1.3175128  1.81374839 1.3867715 ]\n",
            " [1.8682928  1.43629473 1.30119265 1.18384501 1.09989408]\n",
            " [1.19649255 1.57042074 1.20106168 1.95186154 1.37254694]\n",
            " [1.34916262 1.87275267 1.67457188 1.27404353 1.2984002 ]]\n",
            "           a         b         c         d         e\n",
            "0   1.949507  1.345810  1.055634  1.170051  1.380370\n",
            "1   1.408759  1.103384  1.262825  1.720821  1.793678\n",
            "2   1.907056  1.519626  1.300578  1.667635  1.852705\n",
            "3   1.467228  1.090831  1.703723  1.143889  1.242455\n",
            "4   1.997137  1.528815  1.047519  1.145092  1.329443\n",
            "5   1.493746  1.785492  1.210340  1.377850  1.910860\n",
            "6   1.594717  1.398382  1.451673  1.751249  1.718050\n",
            "7   1.455179  1.860278  1.012797  1.580057  1.745736\n",
            "8   1.639527  1.822373  1.965645  1.968707  1.399928\n",
            "9   1.768607  1.776968  1.540686  1.514747  1.640654\n",
            "10  1.672888  1.434746  1.507604  1.825364  1.094561\n",
            "11  1.453639  1.023126  1.639904  1.407216  1.039306\n",
            "12  1.258475  1.758284  1.332836  1.947577  1.679405\n",
            "13  1.058772  1.076911  1.719811  1.855504  1.815137\n",
            "14  1.428391  1.995036  1.873678  1.411652  1.457241\n",
            "15  1.938108  1.652438  1.749605  1.956580  1.747961\n",
            "16  1.547803  1.480815  1.317513  1.813748  1.386771\n",
            "17  1.868293  1.436295  1.301193  1.183845  1.099894\n",
            "18  1.196493  1.570421  1.201062  1.951862  1.372547\n",
            "19  1.349163  1.872753  1.674572  1.274044  1.298400\n",
            "0.30043085520525126\n",
            "0.2671700328419403\n"
          ]
        }
      ]
    },
    {
      "cell_type": "code",
      "source": [
        "df[\"f\"]=df.sum(axis=1)\n",
        "lis=[]\n",
        "for x in df[\"f\"]:\n",
        "  if(x<8):\n",
        "    lis.append(\"LT8\")\n",
        "  else:\n",
        "    lis.append(\"GT8\")\n",
        "df[\"g\"]=lis\n",
        "print(df)\n",
        "\n",
        "print(len(df[df[\"g\"]==\"LT8\"]))\n",
        "\n",
        "std1=df[df[\"g\"]==\"LT8\"][\"f\"].std()\n",
        "std2=df[df[\"g\"]==\"GT8\"][\"f\"].std()\n",
        "print(std1)\n",
        "print(std2)"
      ],
      "metadata": {
        "colab": {
          "base_uri": "https://localhost:8080/"
        },
        "id": "0Dwou7yNmQBe",
        "outputId": "87f7351c-0652-4508-e0d9-f7619de466be"
      },
      "execution_count": 17,
      "outputs": [
        {
          "output_type": "stream",
          "name": "stdout",
          "text": [
            "           a         b         c         d         e         f    g\n",
            "0   1.949507  1.345810  1.055634  1.170051  1.380370  6.901372  LT8\n",
            "1   1.408759  1.103384  1.262825  1.720821  1.793678  7.289468  LT8\n",
            "2   1.907056  1.519626  1.300578  1.667635  1.852705  8.247600  GT8\n",
            "3   1.467228  1.090831  1.703723  1.143889  1.242455  6.648126  LT8\n",
            "4   1.997137  1.528815  1.047519  1.145092  1.329443  7.048006  LT8\n",
            "5   1.493746  1.785492  1.210340  1.377850  1.910860  7.778288  LT8\n",
            "6   1.594717  1.398382  1.451673  1.751249  1.718050  7.914072  LT8\n",
            "7   1.455179  1.860278  1.012797  1.580057  1.745736  7.654047  LT8\n",
            "8   1.639527  1.822373  1.965645  1.968707  1.399928  8.796181  GT8\n",
            "9   1.768607  1.776968  1.540686  1.514747  1.640654  8.241662  GT8\n",
            "10  1.672888  1.434746  1.507604  1.825364  1.094561  7.535163  LT8\n",
            "11  1.453639  1.023126  1.639904  1.407216  1.039306  6.563191  LT8\n",
            "12  1.258475  1.758284  1.332836  1.947577  1.679405  7.976578  LT8\n",
            "13  1.058772  1.076911  1.719811  1.855504  1.815137  7.526134  LT8\n",
            "14  1.428391  1.995036  1.873678  1.411652  1.457241  8.165997  GT8\n",
            "15  1.938108  1.652438  1.749605  1.956580  1.747961  9.044692  GT8\n",
            "16  1.547803  1.480815  1.317513  1.813748  1.386771  7.546651  LT8\n",
            "17  1.868293  1.436295  1.301193  1.183845  1.099894  6.889519  LT8\n",
            "18  1.196493  1.570421  1.201062  1.951862  1.372547  7.292383  LT8\n",
            "19  1.349163  1.872753  1.674572  1.274044  1.298400  7.468931  LT8\n",
            "15\n",
            "0.44116702741778363\n",
            "0.3957308937227165\n"
          ]
        }
      ]
    },
    {
      "cell_type": "markdown",
      "source": [
        "#Questions 12 \n",
        "##Broadcasting"
      ],
      "metadata": {
        "id": "COgr2icLta6G"
      }
    },
    {
      "cell_type": "code",
      "source": [
        "x1=np.arange(3)\n",
        "x2=np.arange(3)[:, np.newaxis]\n",
        "print(x1)\n",
        "print(x2)\n",
        "\n",
        "print(x1+x2)"
      ],
      "metadata": {
        "colab": {
          "base_uri": "https://localhost:8080/"
        },
        "id": "LKT-IVnPrCMF",
        "outputId": "9701de9e-48d3-4673-ce70-c1ee226062d4"
      },
      "execution_count": 20,
      "outputs": [
        {
          "output_type": "stream",
          "name": "stdout",
          "text": [
            "[0 1 2]\n",
            "[[0]\n",
            " [1]\n",
            " [2]]\n",
            "[[0 1 2]\n",
            " [1 2 3]\n",
            " [2 3 4]]\n"
          ]
        }
      ]
    },
    {
      "cell_type": "markdown",
      "source": [
        "#Broadcasting\n",
        "\n",
        "The above code is beautiful example of broadcasting. x1 and x2 don't have same dimensions(rows and columns) but when we add them, we stretched both x1 and x2 arrays to match the common shape. To match the shape, in first x1 array is       reshaped in 3x3 matrix from 1x3 matrix with value {[0,0,0]\n",
        "                                                            [1,1,1]\n",
        "                                                            [2,2,2]} and the another matrix is reshaped from 3x1 to 3x3 with values of {[0,1,2]\n",
        "                                                            [0,1,1]\n",
        "                                                            [0,1,2]}\n",
        "so with these values the both arrays add and we get the 2D array as result.\n",
        "\n",
        "We can use many other codes to understand broadcasting."
      ],
      "metadata": {
        "id": "BwkVwQN1t4Hl"
      }
    },
    {
      "cell_type": "markdown",
      "source": [
        "#Question 13"
      ],
      "metadata": {
        "id": "5G6yrtfn1CW_"
      }
    },
    {
      "cell_type": "code",
      "source": [
        "arr=np.array([[22,10,-1],[12,4,9],[34,65,19]])\n",
        "axis1=1\n",
        "#for axis=1\n",
        "res=[]\n",
        "for i in range(len(arr)):\n",
        "  mini=arr[i][0]\n",
        "  x=0\n",
        "  for j in range(len(arr[0])):\n",
        "    if(mini>arr[i][j]):\n",
        "      mini=arr[i][j]\n",
        "      x=j\n",
        "  res.append(x)\n",
        "\n",
        "print(res)\n",
        "print(arr)\n",
        "\n",
        "\n"
      ],
      "metadata": {
        "colab": {
          "base_uri": "https://localhost:8080/"
        },
        "id": "TBGD7HAF1GW-",
        "outputId": "cf6b7421-1d4c-4138-f240-7bba41fa7a84"
      },
      "execution_count": 39,
      "outputs": [
        {
          "output_type": "stream",
          "name": "stdout",
          "text": [
            "[2, 1, 2]\n",
            "[[22 10 -1]\n",
            " [12  4  9]\n",
            " [34 65 19]]\n"
          ]
        }
      ]
    },
    {
      "cell_type": "code",
      "source": [
        "arr=np.array([[22,10,-1],[12,4,9],[34,65,19]])\n",
        "axis2=0\n",
        "#for axis=0\n",
        "res=[]\n",
        "for i in range(len(arr[0])):\n",
        "  mini=arr[0][i]\n",
        "  x=0\n",
        "  for j in range(len(arr)):\n",
        "    if(mini>arr[j][i]):\n",
        "      mini=arr[j][i]\n",
        "      x=j\n",
        "  res.append(x)\n",
        "\n",
        "print(res)\n",
        "print(arr)\n",
        "\n",
        "#Base condition if the axis is not defined#\n",
        "\n",
        "## we will print the minimum element from all the array##\n",
        "\n",
        "min_val = arr[0][0]\n",
        "index = 0\n",
        "for i in range(len(arr)):\n",
        "  for j in range(len(arr[0])):\n",
        "    if(arr[i][j] < min_val):\n",
        "      min_val = arr[i][j]\n",
        "      index = i * len(arr) + j\n",
        "    \n",
        "print(index)"
      ],
      "metadata": {
        "colab": {
          "base_uri": "https://localhost:8080/"
        },
        "id": "ZnA2-ipP3hY6",
        "outputId": "1ff896d4-9d56-493f-8284-d4e7f4386623"
      },
      "execution_count": 43,
      "outputs": [
        {
          "output_type": "stream",
          "name": "stdout",
          "text": [
            "[1, 1, 0]\n",
            "[[22 10 -1]\n",
            " [12  4  9]\n",
            " [34 65 19]]\n",
            "2\n"
          ]
        }
      ]
    },
    {
      "cell_type": "markdown",
      "source": [
        "#Using Inbuilt Function\n"
      ],
      "metadata": {
        "id": "mHM7-Rsn33v9"
      }
    },
    {
      "cell_type": "code",
      "source": [
        "arr=np.array([[22,10,-1],[12,4,9],[34,65,19]])\n",
        "print(np.argmin(arr,axis=0))\n",
        "print(np.argmin(arr,axis=1))\n",
        "\n"
      ],
      "metadata": {
        "colab": {
          "base_uri": "https://localhost:8080/"
        },
        "id": "71Av97el36aD",
        "outputId": "82eabbaa-7dec-4a8c-9ded-287c4970fbeb"
      },
      "execution_count": 38,
      "outputs": [
        {
          "output_type": "stream",
          "name": "stdout",
          "text": [
            "[1 1 0]\n",
            "[2 1 2]\n"
          ]
        }
      ]
    }
  ]
}